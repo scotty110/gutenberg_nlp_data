{
 "cells": [
  {
   "cell_type": "code",
   "execution_count": 1,
   "metadata": {},
   "outputs": [],
   "source": [
    "import pandas as pd\n",
    "import glob"
   ]
  },
  {
   "cell_type": "markdown",
   "metadata": {},
   "source": [
    "## Functionized"
   ]
  },
  {
   "cell_type": "markdown",
   "metadata": {},
   "source": [
    "Basic cleaning functions, probably have some bad strings still, but they should be less than ~5%???"
   ]
  },
  {
   "cell_type": "code",
   "execution_count": 2,
   "metadata": {},
   "outputs": [],
   "source": [
    "def process_file(fname:str) -> pd.DataFrame:\n",
    "    with open(fname, 'r') as f:\n",
    "        text = f.read()\n",
    "    paragraphs = text.split('\\n\\n')\n",
    "    filtered_paragraphs = list(filter(lambda p: p.strip() != '', paragraphs))\n",
    "    simple_cleaned_paragraphs = list(map(lambda p: p.replace('\\n', ' '), list(filtered_paragraphs)))\n",
    "    simple_cleaned_paragraphs = list(filter(lambda x: len(x) > 100, list(simple_cleaned_paragraphs)))\n",
    "    book = (fname.split('/')[-1]).split('.')[0]\n",
    "    author = fname.split('/')[1]  # TODO: reading from folder so.....\n",
    "    df = pd.DataFrame({'book': book, 'author': author, 'paragraph': list(simple_cleaned_paragraphs)})\n",
    "    return df"
   ]
  },
  {
   "cell_type": "markdown",
   "metadata": {},
   "source": [
    "Get all files/books"
   ]
  },
  {
   "cell_type": "code",
   "execution_count": 3,
   "metadata": {},
   "outputs": [],
   "source": [
    "folder = './'\n",
    "files = glob.glob(folder + '/**/*.txt', recursive=True)"
   ]
  },
  {
   "cell_type": "markdown",
   "metadata": {},
   "source": [
    "Generate dataframe of all books"
   ]
  },
  {
   "cell_type": "code",
   "execution_count": 4,
   "metadata": {},
   "outputs": [
    {
     "name": "stdout",
     "output_type": "stream",
     "text": [
      "Number of paragraphs: 82662\n"
     ]
    }
   ],
   "source": [
    "df_list = [ process_file(f) for f in files ]\n",
    "df = pd.concat(df_list).reset_index(drop=True)\n",
    "print(f'Number of paragraphs: {len(df)}')"
   ]
  },
  {
   "cell_type": "code",
   "execution_count": 5,
   "metadata": {},
   "outputs": [
    {
     "data": {
      "text/html": [
       "<div>\n",
       "<style scoped>\n",
       "    .dataframe tbody tr th:only-of-type {\n",
       "        vertical-align: middle;\n",
       "    }\n",
       "\n",
       "    .dataframe tbody tr th {\n",
       "        vertical-align: top;\n",
       "    }\n",
       "\n",
       "    .dataframe thead th {\n",
       "        text-align: right;\n",
       "    }\n",
       "</style>\n",
       "<table border=\"1\" class=\"dataframe\">\n",
       "  <thead>\n",
       "    <tr style=\"text-align: right;\">\n",
       "      <th></th>\n",
       "      <th>book</th>\n",
       "      <th>author</th>\n",
       "      <th>paragraph</th>\n",
       "    </tr>\n",
       "  </thead>\n",
       "  <tbody>\n",
       "    <tr>\n",
       "      <th>0</th>\n",
       "      <td>anna_karenina</td>\n",
       "      <td>leo_tolstoy</td>\n",
       "      <td>Everything was in confusion in the Oblonskys’ ...</td>\n",
       "    </tr>\n",
       "    <tr>\n",
       "      <th>1</th>\n",
       "      <td>anna_karenina</td>\n",
       "      <td>leo_tolstoy</td>\n",
       "      <td>Three days after the quarrel, Prince Stepan Ar...</td>\n",
       "    </tr>\n",
       "    <tr>\n",
       "      <th>2</th>\n",
       "      <td>anna_karenina</td>\n",
       "      <td>leo_tolstoy</td>\n",
       "      <td>“Yes, yes, how was it now?” he thought, going ...</td>\n",
       "    </tr>\n",
       "    <tr>\n",
       "      <th>3</th>\n",
       "      <td>anna_karenina</td>\n",
       "      <td>leo_tolstoy</td>\n",
       "      <td>Stepan Arkadyevitch’s eyes twinkled gaily, and...</td>\n",
       "    </tr>\n",
       "    <tr>\n",
       "      <th>4</th>\n",
       "      <td>anna_karenina</td>\n",
       "      <td>leo_tolstoy</td>\n",
       "      <td>“Ah, ah, ah! Oo!...” he muttered, recalling ev...</td>\n",
       "    </tr>\n",
       "    <tr>\n",
       "      <th>5</th>\n",
       "      <td>anna_karenina</td>\n",
       "      <td>leo_tolstoy</td>\n",
       "      <td>“Yes, she won’t forgive me, and she can’t forg...</td>\n",
       "    </tr>\n",
       "    <tr>\n",
       "      <th>6</th>\n",
       "      <td>anna_karenina</td>\n",
       "      <td>leo_tolstoy</td>\n",
       "      <td>Most unpleasant of all was the first minute wh...</td>\n",
       "    </tr>\n",
       "    <tr>\n",
       "      <th>7</th>\n",
       "      <td>anna_karenina</td>\n",
       "      <td>leo_tolstoy</td>\n",
       "      <td>She, his Dolly, forever fussing and worrying o...</td>\n",
       "    </tr>\n",
       "    <tr>\n",
       "      <th>8</th>\n",
       "      <td>anna_karenina</td>\n",
       "      <td>leo_tolstoy</td>\n",
       "      <td>And at this recollection, Stepan Arkadyevitch,...</td>\n",
       "    </tr>\n",
       "    <tr>\n",
       "      <th>9</th>\n",
       "      <td>anna_karenina</td>\n",
       "      <td>leo_tolstoy</td>\n",
       "      <td>There happened to him at that instant what doe...</td>\n",
       "    </tr>\n",
       "  </tbody>\n",
       "</table>\n",
       "</div>"
      ],
      "text/plain": [
       "            book       author  \\\n",
       "0  anna_karenina  leo_tolstoy   \n",
       "1  anna_karenina  leo_tolstoy   \n",
       "2  anna_karenina  leo_tolstoy   \n",
       "3  anna_karenina  leo_tolstoy   \n",
       "4  anna_karenina  leo_tolstoy   \n",
       "5  anna_karenina  leo_tolstoy   \n",
       "6  anna_karenina  leo_tolstoy   \n",
       "7  anna_karenina  leo_tolstoy   \n",
       "8  anna_karenina  leo_tolstoy   \n",
       "9  anna_karenina  leo_tolstoy   \n",
       "\n",
       "                                           paragraph  \n",
       "0  Everything was in confusion in the Oblonskys’ ...  \n",
       "1  Three days after the quarrel, Prince Stepan Ar...  \n",
       "2  “Yes, yes, how was it now?” he thought, going ...  \n",
       "3  Stepan Arkadyevitch’s eyes twinkled gaily, and...  \n",
       "4  “Ah, ah, ah! Oo!...” he muttered, recalling ev...  \n",
       "5  “Yes, she won’t forgive me, and she can’t forg...  \n",
       "6  Most unpleasant of all was the first minute wh...  \n",
       "7  She, his Dolly, forever fussing and worrying o...  \n",
       "8  And at this recollection, Stepan Arkadyevitch,...  \n",
       "9  There happened to him at that instant what doe...  "
      ]
     },
     "execution_count": 5,
     "metadata": {},
     "output_type": "execute_result"
    }
   ],
   "source": [
    "df.head(10)"
   ]
  },
  {
   "cell_type": "markdown",
   "metadata": {},
   "source": [
    "Generate an author id?"
   ]
  },
  {
   "cell_type": "code",
   "execution_count": 6,
   "metadata": {},
   "outputs": [],
   "source": [
    "df['author_id'] = pd.factorize(df['author'])[0]"
   ]
  },
  {
   "cell_type": "code",
   "execution_count": 7,
   "metadata": {},
   "outputs": [
    {
     "data": {
      "text/html": [
       "<div>\n",
       "<style scoped>\n",
       "    .dataframe tbody tr th:only-of-type {\n",
       "        vertical-align: middle;\n",
       "    }\n",
       "\n",
       "    .dataframe tbody tr th {\n",
       "        vertical-align: top;\n",
       "    }\n",
       "\n",
       "    .dataframe thead th {\n",
       "        text-align: right;\n",
       "    }\n",
       "</style>\n",
       "<table border=\"1\" class=\"dataframe\">\n",
       "  <thead>\n",
       "    <tr style=\"text-align: right;\">\n",
       "      <th></th>\n",
       "      <th>book</th>\n",
       "      <th>author</th>\n",
       "      <th>paragraph</th>\n",
       "      <th>author_id</th>\n",
       "    </tr>\n",
       "  </thead>\n",
       "  <tbody>\n",
       "    <tr>\n",
       "      <th>20000</th>\n",
       "      <td>ethan_frome</td>\n",
       "      <td>edith_wharton</td>\n",
       "      <td>The passion of rebellion had broken out in him...</td>\n",
       "      <td>4</td>\n",
       "    </tr>\n",
       "    <tr>\n",
       "      <th>20001</th>\n",
       "      <td>ethan_frome</td>\n",
       "      <td>edith_wharton</td>\n",
       "      <td>The early mist had vanished and the fields lay...</td>\n",
       "      <td>4</td>\n",
       "    </tr>\n",
       "    <tr>\n",
       "      <th>20002</th>\n",
       "      <td>ethan_frome</td>\n",
       "      <td>edith_wharton</td>\n",
       "      <td>Suddenly it occurred to him that Andrew Hale, ...</td>\n",
       "      <td>4</td>\n",
       "    </tr>\n",
       "    <tr>\n",
       "      <th>20003</th>\n",
       "      <td>ethan_frome</td>\n",
       "      <td>edith_wharton</td>\n",
       "      <td>The more he considered his plan the more hopef...</td>\n",
       "      <td>4</td>\n",
       "    </tr>\n",
       "    <tr>\n",
       "      <th>20004</th>\n",
       "      <td>ethan_frome</td>\n",
       "      <td>edith_wharton</td>\n",
       "      <td>His first object was to reach Starkfield befor...</td>\n",
       "      <td>4</td>\n",
       "    </tr>\n",
       "    <tr>\n",
       "      <th>20005</th>\n",
       "      <td>ethan_frome</td>\n",
       "      <td>edith_wharton</td>\n",
       "      <td>“Mr. Hale? Why, yes, you'll find him down home...</td>\n",
       "      <td>4</td>\n",
       "    </tr>\n",
       "    <tr>\n",
       "      <th>20006</th>\n",
       "      <td>ethan_frome</td>\n",
       "      <td>edith_wharton</td>\n",
       "      <td>Beaming maternally on Ethan, she bent over to ...</td>\n",
       "      <td>4</td>\n",
       "    </tr>\n",
       "    <tr>\n",
       "      <th>20007</th>\n",
       "      <td>ethan_frome</td>\n",
       "      <td>edith_wharton</td>\n",
       "      <td>She gave him a last nod of sympathy while her ...</td>\n",
       "      <td>4</td>\n",
       "    </tr>\n",
       "    <tr>\n",
       "      <th>20008</th>\n",
       "      <td>ethan_frome</td>\n",
       "      <td>edith_wharton</td>\n",
       "      <td>It was a long time since any one had spoken to...</td>\n",
       "      <td>4</td>\n",
       "    </tr>\n",
       "    <tr>\n",
       "      <th>20009</th>\n",
       "      <td>ethan_frome</td>\n",
       "      <td>edith_wharton</td>\n",
       "      <td>He started down the road toward their house, b...</td>\n",
       "      <td>4</td>\n",
       "    </tr>\n",
       "  </tbody>\n",
       "</table>\n",
       "</div>"
      ],
      "text/plain": [
       "              book         author  \\\n",
       "20000  ethan_frome  edith_wharton   \n",
       "20001  ethan_frome  edith_wharton   \n",
       "20002  ethan_frome  edith_wharton   \n",
       "20003  ethan_frome  edith_wharton   \n",
       "20004  ethan_frome  edith_wharton   \n",
       "20005  ethan_frome  edith_wharton   \n",
       "20006  ethan_frome  edith_wharton   \n",
       "20007  ethan_frome  edith_wharton   \n",
       "20008  ethan_frome  edith_wharton   \n",
       "20009  ethan_frome  edith_wharton   \n",
       "\n",
       "                                               paragraph  author_id  \n",
       "20000  The passion of rebellion had broken out in him...          4  \n",
       "20001  The early mist had vanished and the fields lay...          4  \n",
       "20002  Suddenly it occurred to him that Andrew Hale, ...          4  \n",
       "20003  The more he considered his plan the more hopef...          4  \n",
       "20004  His first object was to reach Starkfield befor...          4  \n",
       "20005  “Mr. Hale? Why, yes, you'll find him down home...          4  \n",
       "20006  Beaming maternally on Ethan, she bent over to ...          4  \n",
       "20007  She gave him a last nod of sympathy while her ...          4  \n",
       "20008  It was a long time since any one had spoken to...          4  \n",
       "20009  He started down the road toward their house, b...          4  "
      ]
     },
     "execution_count": 7,
     "metadata": {},
     "output_type": "execute_result"
    }
   ],
   "source": [
    "df[20000:20010]"
   ]
  },
  {
   "cell_type": "markdown",
   "metadata": {},
   "source": [
    "Save to parquet"
   ]
  },
  {
   "cell_type": "code",
   "execution_count": 8,
   "metadata": {},
   "outputs": [],
   "source": [
    "df.to_parquet('nlp_data.snappy.parquet', compression='snappy')"
   ]
  }
 ],
 "metadata": {
  "kernelspec": {
   "display_name": "school_nlp",
   "language": "python",
   "name": "python3"
  },
  "language_info": {
   "codemirror_mode": {
    "name": "ipython",
    "version": 3
   },
   "file_extension": ".py",
   "mimetype": "text/x-python",
   "name": "python",
   "nbconvert_exporter": "python",
   "pygments_lexer": "ipython3",
   "version": "3.11.7"
  }
 },
 "nbformat": 4,
 "nbformat_minor": 2
}
